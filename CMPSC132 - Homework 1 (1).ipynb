{
 "cells": [
  {
   "cell_type": "markdown",
   "metadata": {},
   "source": [
    "I have included that code snippets for the <a href= \"https://runestone.academy/runestone/books/published/pythonds3/Introduction/ObjectOrientedProgramminginPythonDefiningClasses.html\">PSADS book below</a>. You need to extend the code in order to meet the criteria listed at the end of the chapter. "
   ]
  },
  {
   "cell_type": "code",
   "execution_count": 1,
   "metadata": {},
   "outputs": [],
   "source": [
    "from __future__ import division\n",
    "def gcd(m, n):\n",
    "    while m % n != 0:\n",
    "        m, n = n, m % n\n",
    "    return n\n",
    "\n",
    "class Fraction:\n",
    "    def __init__(self, top, bottom=1): # constructor\n",
    "        if top is float:\n",
    "            Error = Exception(\"{} must be an integer\".format(top))\n",
    "            raise Error\n",
    "        if bottom is float:\n",
    "            Error = Exception(\"{} must be an integer\".format(bottom))\n",
    "            raise Error\n",
    "        if bottom == 0:\n",
    "            Error = Exception(\"Can't divide by 0\")\n",
    "            raise Error\n",
    "        cmmn = gcd(top, bottom)\n",
    "        if bottom < 0:\n",
    "            self.num = top // -cmmn\n",
    "            self.den = bottom // -cmmn\n",
    "        else:\n",
    "            self.num = top // cmmn\n",
    "            self.den = bottom // cmmn\n",
    "\n",
    "    def checkFraction(other):\n",
    "        if not isinstance(other, Fraction):\n",
    "            other = Fraction(other, 1)\n",
    "        return other\n",
    "\n",
    "    def __str__(self): \n",
    "        return \"{:d}/{:d}\".format(self.num, self.den) # what is format code d?\n",
    "\n",
    "    def __eq__(self, other_fraction): # relational operators\n",
    "        first_num = self.num * other_fraction.den\n",
    "        second_num = other_fraction.num * self.den\n",
    "        return first_num == second_num\n",
    "\n",
    "    def __gt__(self, other_fraction):\n",
    "        first_num = self.num * other_fraction.den\n",
    "        second_num = other_fraction.num * self.den\n",
    "        return first_num > second_num\n",
    "\n",
    "    def __ge__(self, other_fraction):\n",
    "        first_num = self.num * other_fraction.den\n",
    "        second_num = other_fraction.num * self.den\n",
    "        return first_num >= second_num\n",
    "\n",
    "    def __lt__(self, other_fraction):\n",
    "        first_num = self.num * other_fraction.den\n",
    "        second_num = other_fraction.num * self.den\n",
    "        return first_num < second_num\n",
    "\n",
    "    def __le__(self, other_fraction):\n",
    "        first_num = self.num * other_fraction.den\n",
    "        second_num = other_fraction.num * self.den\n",
    "        return first_num <= second_num\n",
    "        \n",
    "    def __ne__(self, other_fraction):\n",
    "        first_num = self.num * other_fraction.den\n",
    "        second_num = other_fraction.num * self.den\n",
    "        return first_num != second_num\n",
    "\n",
    "    def __iadd__(self, other_fraction):\n",
    "        # self = self + Fraction(other_fraction,1)\n",
    "        other_fraction = Fraction(other_fraction,1)\n",
    "        new_num = (self.num * other_fraction.den) \\\n",
    "        + (self.den * other_fraction.num)\n",
    "        new_den = self.den * other_fraction.num\n",
    "        return Fraction(new_num, new_den)\n",
    "\n",
    "    def __radd__(self, other_fraction): #__radd__ is makes sure that operator overloading can be properly done\n",
    "        return other_fraction + self\n",
    "\n",
    "    def __add__(self, other_fraction): #math operation for adding another object\n",
    "        new_num = (self.num * other_fraction.den) \\\n",
    "        + (self.den * other_fraction.num)\n",
    "        new_den = self.den * other_fraction.num\n",
    "        return Fraction(new_num, new_den)\n",
    "\n",
    "    def __sub__(self, other_fraction): #math operation\n",
    "        new_num = (self.num * other_fraction.den) \\\n",
    "        - (self.den * other_fraction.num)\n",
    "        new_den = self.den * other_fraction.den\n",
    "        return Fraction(new_num, new_den)\n",
    "    \n",
    "    def __mul__(self, other_fraction): #math operation\n",
    "        new_num = self.num * other_fraction.num\n",
    "        new_den = self.den * other_fraction.den\n",
    "        return Fraction(new_num, new_den)\n",
    "    \n",
    "    def __truediv__(self, other_fraction): #math operation\n",
    "        new_num = self.num * other_fraction.den\n",
    "        new_den = self.den * other_fraction.num\n",
    "        return Fraction(new_num, new_den) \n",
    "        \n",
    "    def get_num(self): #prints\n",
    "        print(self.num)\n",
    "    def get_den(self): #prints\n",
    "        print(self.den)\n",
    "\n",
    "    def show(self):\n",
    "        print(\"{:d}/{:d}\".format(self.num, self.den))"
   ]
  },
  {
   "cell_type": "code",
   "execution_count": 2,
   "metadata": {},
   "outputs": [
    {
     "name": "stdout",
     "output_type": "stream",
     "text": [
      "1/2\n",
      "2/3\n",
      "7/4\n",
      "False\n"
     ]
    }
   ],
   "source": [
    "x = Fraction(1, 2)\n",
    "x.show()\n",
    "y = Fraction(2, 3)\n",
    "print(y)\n",
    "z = x + y\n",
    "print(z)\n",
    "print(x == y)\n",
    "# prints\n",
    "# 1/2\n",
    "# 2/3\n",
    "# 7/6\n",
    "# False"
   ]
  },
  {
   "cell_type": "markdown",
   "metadata": {},
   "source": [
    "# COMPLETE THE FRACTION CLASS\n",
    "<a href= \"https://runestone.academy/runestone/books/published/pythonds3/Introduction/Exercises.html\"> You can also find these questions in the book. </a><br>\n",
    "1. Implement the simple methods get\\_num and get\\_den that will return the numerator and denominator of a fraction.\n",
    "\n",
    "2. In many ways it would be better if all fractions were maintained in lowest terms right from the start. Modify the constructor for the Fraction class so that GCD is used to reduce fractions immediately. Notice that this means the \\_\\_add\\_\\_ function no longer needs to reduce. Make the necessary modifications.\n",
    "\n",
    "3. Implement the remaining simple arithmetic operators (\\_\\_sub\\_\\_, \\_\\_mul\\_\\_, and \\_\\_truediv\\_\\_).\n",
    "\n",
    "4. Implement the remaining relational operators (\\_\\_gt\\_\\_, \\_\\_ge\\_\\_, \\_\\_lt\\_\\_, \\_\\_le\\_\\_, and \\_\\_ne\\_\\_).\n",
    "\n",
    "5. Modify the constructor for the fraction class so that it checks to make sure that the numerator and denominator are both integers. If either is not an integer, the constructor should raise an exception.\n",
    "\n",
    "6. In the definition of fractions we assumed that negative fractions have a negative numerator and a positive denominator. Using a negative denominator would cause some of the relational operators to give incorrect results. In general, this is an unnecessary constraint. Modify the constructor to allow the user to pass a negative denominator so that all of the operators continue to work properly.\n",
    "\n",
    "7. Research the \\_\\_radd\\_\\_ method. How does it differ from \\_\\_add\\_\\_? When is it used? Implement \\_\\_radd\\_\\_.\n",
    "\n",
    "8. Repeat the last question but this time consider the \\_\\_iadd\\_\\_ method.\n",
    "\n",
    "9. Research the \\_\\_repr\\_\\_ method. How does it differ from \\_\\_str\\_\\_? When is it used? Implement \\_\\_repr\\_\\_."
   ]
  },
  {
   "cell_type": "code",
   "execution_count": 3,
   "metadata": {
    "scrolled": true
   },
   "outputs": [
    {
     "name": "stdout",
     "output_type": "stream",
     "text": [
      "1\n",
      "3\n"
     ]
    }
   ],
   "source": [
    "#Test 1\n",
    "x.get_num()\n",
    "y.get_den()\n",
    "# prints\n",
    "# 1\n",
    "# 3"
   ]
  },
  {
   "cell_type": "code",
   "execution_count": 4,
   "metadata": {},
   "outputs": [
    {
     "name": "stdout",
     "output_type": "stream",
     "text": [
      "1/2\n"
     ]
    }
   ],
   "source": [
    "# Test 2\n",
    "z = Fraction(3,6)\n",
    "print(z)  #should be 1/2"
   ]
  },
  {
   "cell_type": "code",
   "execution_count": 5,
   "metadata": {},
   "outputs": [
    {
     "name": "stdout",
     "output_type": "stream",
     "text": [
      "-1/6\n",
      "1/3\n",
      "3/4\n"
     ]
    }
   ],
   "source": [
    "# Test 3\n",
    "# __sub__\n",
    "z = x - y\n",
    "print(z)\n",
    "# __mul__\n",
    "z = x * y\n",
    "print(z)\n",
    "# __truediv__\n",
    "# from __future__ import division  #this might need to be imported\n",
    "z = x / y\n",
    "print(z)\n",
    "# prints\n",
    "# -1/6\n",
    "# 1/3\n",
    "# 3/4"
   ]
  },
  {
   "cell_type": "code",
   "execution_count": 6,
   "metadata": {},
   "outputs": [
    {
     "name": "stdout",
     "output_type": "stream",
     "text": [
      "False\n",
      "False\n",
      "True\n",
      "True\n",
      "True\n"
     ]
    }
   ],
   "source": [
    "# Test 4\n",
    "\n",
    "# __gt__\n",
    "print(x>y)\n",
    "# __ge__\n",
    "print(x>=y)\n",
    "# __lt__\n",
    "print(x<y)\n",
    "# __le__\n",
    "print(x<=y)\n",
    "# __ne__\n",
    "print(x!=y)\n",
    "# prints \n",
    "# False\n",
    "# False\n",
    "# True\n",
    "# True\n",
    "# True"
   ]
  },
  {
   "cell_type": "code",
   "execution_count": 7,
   "metadata": {},
   "outputs": [],
   "source": [
    "#Test 5\n",
    "alpha = Fraction(2.0,1.0)\n"
   ]
  },
  {
   "cell_type": "code",
   "execution_count": 8,
   "metadata": {},
   "outputs": [
    {
     "name": "stdout",
     "output_type": "stream",
     "text": [
      "3/-5\n",
      "3\n",
      "None\n",
      "-5\n",
      "None\n"
     ]
    }
   ],
   "source": [
    "#Test 6\n",
    "beta = Fraction(3, -5)\n",
    "print(beta)\n",
    "print(beta.get_num())\n",
    "print(beta.get_den())"
   ]
  },
  {
   "cell_type": "code",
   "execution_count": 9,
   "metadata": {},
   "outputs": [],
   "source": [
    "#Test 7 radd\n",
    "print(1 + x)\n",
    "print(x + 1)"
   ]
  },
  {
   "cell_type": "code",
   "execution_count": null,
   "metadata": {},
   "outputs": [],
   "source": [
    "#Test 8 iadd\n",
    "for i in range(1,5):\n",
    "    x += i\n",
    "    print(x)"
   ]
  },
  {
   "cell_type": "code",
   "execution_count": null,
   "metadata": {},
   "outputs": [],
   "source": [
    "#Test 9"
   ]
  },
  {
   "cell_type": "code",
   "execution_count": null,
   "metadata": {},
   "outputs": [],
   "source": [
    "class LogicGate:\n",
    "\n",
    "    def __init__(self, lbl):\n",
    "        self.name = lbl\n",
    "        self.output = None\n",
    "\n",
    "    def get_label(self):\n",
    "        return self.name\n",
    "\n",
    "    def get_output(self):\n",
    "        self.output = self.perform_gate_logic()\n",
    "        return self.output\n",
    "\n",
    "\n",
    "class BinaryGate(LogicGate):\n",
    "\n",
    "    def __init__(self, lbl):\n",
    "        super(BinaryGate, self).__init__(lbl)\n",
    "\n",
    "        self.pin_a = None\n",
    "        self.pin_b = None\n",
    "\n",
    "    def get_pin_a(self):\n",
    "        if self.pin_a == None:\n",
    "            return int(input(\"Enter pin A input for gate \" + self.get_label() + \": \"))\n",
    "        else:\n",
    "            return self.pin_a.get_from().get_output()\n",
    "\n",
    "    def get_pin_b(self):\n",
    "        if self.pin_b == None:\n",
    "            return int(input(\"Enter pin B input for gate \" + self.get_label() + \": \"))\n",
    "        else:\n",
    "            return self.pin_b.get_from().get_output()\n",
    "\n",
    "    def set_next_pin(self, source):\n",
    "        if self.pin_a == None:\n",
    "            self.pin_a = source\n",
    "        else:\n",
    "            if self.pin_b == None:\n",
    "                self.pin_b = source\n",
    "            else:\n",
    "                print(\"Cannot Connect: NO EMPTY PINS on this gate\")\n",
    "\n",
    "\n",
    "class AndGate(BinaryGate):\n",
    "\n",
    "    def __init__(self, lbl):\n",
    "        BinaryGate.__init__(self, lbl)\n",
    "\n",
    "    def perform_gate_logic(self):\n",
    "\n",
    "        a = self.get_pin_a()\n",
    "        b = self.get_pin_b()\n",
    "        if a == 1 and b == 1:\n",
    "            return 1\n",
    "        else:\n",
    "            return 0\n",
    "\n",
    "class OrGate(BinaryGate):\n",
    "\n",
    "    def __init__(self, lbl):\n",
    "        BinaryGate.__init__(self, lbl)\n",
    "\n",
    "    def perform_gate_logic(self):\n",
    "\n",
    "        a = self.get_pin_a()\n",
    "        b = self.get_pin_b()\n",
    "        if a == 1 or b == 1:\n",
    "            return 1\n",
    "        else:\n",
    "            return 0\n",
    "\n",
    "class UnaryGate(LogicGate):\n",
    "\n",
    "    def __init__(self, lbl):\n",
    "        LogicGate.__init__(self, lbl)\n",
    "\n",
    "        self.pin = None\n",
    "\n",
    "    def get_pin(self):\n",
    "        if self.pin == None:\n",
    "            return int(input(\"Enter pin input for gate \" + self.get_label() + \": \"))\n",
    "        else:\n",
    "            return self.pin.get_from().get_output()\n",
    "\n",
    "    def set_next_pin(self, source):\n",
    "        if self.pin == None:\n",
    "            self.pin = source\n",
    "        else:\n",
    "            print(\"Cannot Connect: NO EMPTY PINS on this gate\")\n",
    "\n",
    "\n",
    "class NotGate(UnaryGate):\n",
    "\n",
    "    def __init__(self, lbl):\n",
    "        UnaryGate.__init__(self, lbl)\n",
    "\n",
    "    def perform_gate_logic(self):\n",
    "        if self.get_pin():\n",
    "            return 0\n",
    "        else:\n",
    "            return 1\n",
    "\n",
    "\n",
    "class Connector:\n",
    "\n",
    "    def __init__(self, fgate, tgate):\n",
    "        self.from_gate = fgate\n",
    "        self.to_gate = tgate\n",
    "\n",
    "        tgate.set_next_pin(self)\n",
    "\n",
    "    def get_from(self):\n",
    "        return self.from_gate\n",
    "\n",
    "    def get_to(self):\n",
    "        return self.to_gate\n",
    "\n"
   ]
  },
  {
   "cell_type": "code",
   "execution_count": null,
   "metadata": {},
   "outputs": [
    {
     "name": "stdout",
     "output_type": "stream",
     "text": [
      "Enter pin A input for gate G1: 1\n",
      "Enter pin B input for gate G1: 1\n",
      "Enter pin A input for gate G2: 1\n",
      "Enter pin B input for gate G2: 0\n",
      "0\n"
     ]
    }
   ],
   "source": [
    "g1 = AndGate(\"G1\")\n",
    "g2 = AndGate(\"G2\")\n",
    "g3 = OrGate(\"G3\")\n",
    "g4 = NotGate(\"G4\")\n",
    "c1 = Connector(g1, g3)\n",
    "c2 = Connector(g2, g3)\n",
    "c3 = Connector(g3, g4)\n",
    "print(g4.get_output())"
   ]
  },
  {
   "cell_type": "markdown",
   "metadata": {},
   "source": [
    "# LOGIC GATE PROBLEM\n",
    "Research other types of gates that exist (such as NAND, NOR, and XOR). Add them to the circuit hierarchy. How much additional coding did you need to do?\n",
    "\n",
    "The most simple arithmetic circuit is known as the half adder. Research the simple half-adder circuit. Implement this circuit.\n",
    "\n",
    "Now extend that circuit and implement an 8-bit full adder."
   ]
  },
  {
   "cell_type": "code",
   "execution_count": null,
   "metadata": {},
   "outputs": [],
   "source": []
  },
  {
   "cell_type": "markdown",
   "metadata": {},
   "source": [
    "# DEVELOP YOUR OWN CLASS FROM SCRATCH\n",
    "Design a class to represent a playing card and another one to represent a deck of cards. Using these two classes, implement your favorite card game."
   ]
  },
  {
   "cell_type": "code",
   "execution_count": null,
   "metadata": {},
   "outputs": [],
   "source": []
  }
 ],
 "metadata": {
  "kernelspec": {
   "display_name": "Python 3",
   "language": "python",
   "name": "python3"
  },
  "language_info": {
   "codemirror_mode": {
    "name": "ipython",
    "version": 3
   },
   "file_extension": ".py",
   "mimetype": "text/x-python",
   "name": "python",
   "nbconvert_exporter": "python",
   "pygments_lexer": "ipython3",
   "version": "3.9.10"
  }
 },
 "nbformat": 4,
 "nbformat_minor": 4
}
